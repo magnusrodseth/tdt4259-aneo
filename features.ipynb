{
 "cells": [
  {
   "cell_type": "code",
   "execution_count": 12,
   "metadata": {},
   "outputs": [],
   "source": [
    "import pandas as pd\n",
    "import holidays\n",
    "\n",
    "df = pd.read_csv('./data/consumption_temp.csv')\n"
   ]
  },
  {
   "cell_type": "code",
   "execution_count": 13,
   "metadata": {},
   "outputs": [],
   "source": [
    "### Some data cleaning...\n",
    "\n",
    "# Remove Helsingfors as this is outside of Norway\n",
    "df = df[df['location'] != 'helsingfors']\n",
    "# Convert 'time' to datetime\n",
    "df['time'] = pd.to_datetime(df['time'])\n",
    "\n",
    "\n",
    "### Holiday binary encoding\n",
    "\n",
    "# Extract date from 'time'\n",
    "df['date'] = df['time'].dt.date\n",
    "\n",
    "# Get Norwegian holidays\n",
    "no_holidays = holidays.country_holidays('NO')\n",
    "\n",
    "# Create a feature for whether or not the date is a holiday\n",
    "df['is_holiday'] = df['date'].isin(no_holidays)\n",
    "\n",
    "\n",
    "### Other time related features\n",
    "\n",
    "# Extracting weekday feature\n",
    "df['weekday'] = df['time'].dt.weekday\n",
    "\n",
    "# Creating features for time of day\n",
    "df['hour_of_day'] = df['time'].dt.hour\n",
    "\n",
    "\n",
    "### Lag feature\n",
    "\n",
    "# Lag features for how the consumption was 5 days earlier\n",
    "df['consumption_lag_days_5'] = df.sort_values('date').groupby(['hour_of_day', 'location'])['consumption'].shift(5)\n"
   ]
  },
  {
   "cell_type": "code",
   "execution_count": 14,
   "metadata": {},
   "outputs": [],
   "source": [
    "### Seasonality feature\n",
    "\n",
    "# Assuming that:\n",
    "# 1 represents spring (March, April, May),\n",
    "# 2 represents summer (June, July, August),\n",
    "# 3 represents fall (September, October, November), \n",
    "# 4 represents winter (December, January, February)\n",
    "seasons = {1: '4', 2: '4', 3: '1', 4: '1', 5: '1', 6: '2', 7: '2', 8: '2', 9: '3', 10: '3', 11: '3', 12: '4'}\n",
    "\n",
    "# Apply the mapping to the 'month' column\n",
    "df['season'] = df['time'].dt.month.map(seasons)\n",
    "\n",
    "\n",
    "### Temperature difference from the previous day at the same time\n",
    "\n",
    "# If direction of change matters, we should keep neg/pos values (this is usually\n",
    "# the case when working with data involving temperature differences)\n",
    "# If only magnitude of change matters, we should take the absolute value\n",
    "df['temperature_diff_prev_day'] = df.sort_values('date').groupby(['hour_of_day', 'location'])['temperature'].diff()\n",
    "\n",
    "\n",
    "### Moving averages for consumption over the past week\n",
    "\n",
    "# We apply a transform function to each location. Since each row in the data\n",
    "# is a  by hour, and each location has 24 hours of data for each day,\n",
    "# we can apply a rolling window of 168 (24*7) to get the past week's consumption\n",
    "# grouped by each location\n",
    "df['consumption_ma_week'] = df.groupby('location')['consumption'].transform(lambda x: x.rolling(24*7).mean())\n",
    "\n",
    "\n",
    "### Rolling window statistics for consumption over the past week\n",
    "\n",
    "df['consumption_max_week'] = df.groupby(['location'])['consumption'].transform(lambda x: x.rolling(24*7).max())\n",
    "df['consumption_min_week'] = df.groupby(['location'])['consumption'].transform(lambda x: x.rolling(24*7).min())\n",
    "\n",
    "\n",
    "### Exponential smoothing for consumption\n",
    "\n",
    "# here x.ewm(alpha=0.5).mean() calculates the exponential weighted moving \n",
    "# average for consumption for each location. alpha=0.5 is the decay factor, \n",
    "# which controls the rate of decay. A large alpha will make the EWM more \n",
    "# responsive to recent values, while a small alpha will make the EWM respond \n",
    "# more to historical values. We can play around with this value.\n",
    "df['consumption_ewm_alpha_0.5'] = df.groupby(['location'])['consumption'].apply(lambda x: x.ewm(alpha=0.5).mean()).reset_index(level=0, drop=True)\n",
    "\n",
    "# Save results to csv\n",
    "df.to_csv('consumption_temp_w_features.csv', index=False)\n"
   ]
  },
  {
   "cell_type": "code",
   "execution_count": 15,
   "metadata": {},
   "outputs": [],
   "source": [
    "# Apply to model by setting target = consumption, scaling, fitting model, etc...\n",
    "X = df.drop('consumption', axis=1)\n",
    "y = df['consumption']\n",
    "# ... and so on\n"
   ]
  }
 ],
 "metadata": {
  "kernelspec": {
   "display_name": "Python 3",
   "language": "python",
   "name": "python3"
  },
  "language_info": {
   "codemirror_mode": {
    "name": "ipython",
    "version": 3
   },
   "file_extension": ".py",
   "mimetype": "text/x-python",
   "name": "python",
   "nbconvert_exporter": "python",
   "pygments_lexer": "ipython3",
   "version": "3.10.12"
  }
 },
 "nbformat": 4,
 "nbformat_minor": 2
}
